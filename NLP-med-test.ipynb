{
 "cells": [
  {
   "cell_type": "code",
   "execution_count": 2,
   "metadata": {},
   "outputs": [],
   "source": [
    "from transformers import GPT2LMHeadModel, GPT2Tokenizer\n",
    "import torch\n",
    "\n",
    "device = \"cuda\" if torch.cuda.is_available() else \"mps\" if torch.backends.mps.is_available() else \"cpu\"\n",
    "\n",
    "tokenizer = GPT2Tokenizer.from_pretrained(\"gpt2\")\n",
    "tokenizer.add_special_tokens({\"pad_token\": \"<pad>\", \n",
    "                                \"bos_token\": \"<|user|>\",\n",
    "                                \"eos_token\": \"<|eod|>\"})\n",
    "tokenizer.add_tokens([\"<|ai|>\"])\n",
    "tokenizer.add_tokens([\"<|eos|>\"])\n",
    "\n",
    "model = GPT2LMHeadModel.from_pretrained(\"gpt2\")\n",
    "model.resize_token_embeddings(len(tokenizer))\n",
    "\n",
    "model.load_state_dict(torch.load('fine-tuned-med-model.pt'))\n",
    "model = model.to(device)\n",
    "model.eval()\n",
    "\n",
    "def runModel(inp):\n",
    "    inp = \"<|user|> \"+inp+\" <|eos|> <|ai|>: \"\n",
    "    inp = tokenizer(inp, return_tensors=\"pt\")\n",
    "    X = inp[\"input_ids\"].to(device)\n",
    "    a = inp[\"attention_mask\"].to(device)\n",
    "    output = model.generate(X, max_length=100, num_beams=5, no_repeat_ngram_size=2, early_stopping=True, attention_mask=a)\n",
    "    output = tokenizer.decode(output[0], skip_special_tokens=True)\n",
    "\n",
    "    loc = output.find(\"<|eos|>\")\n",
    "    locOut = output.find(\"<|eos|>\", loc + 1)\n",
    "    output = output[:locOut + 7]\n",
    "    return output"
   ]
  },
  {
   "cell_type": "code",
   "execution_count": 3,
   "metadata": {},
   "outputs": [
    {
     "name": "stderr",
     "output_type": "stream",
     "text": [
      "Setting `pad_token_id` to `eos_token_id`:50256 for open-end generation.\n"
     ]
    },
    {
     "name": "stdout",
     "output_type": "stream",
     "text": [
      "What is bronchiolitis? <|eos|> <|ai|> :  bronchiectasis is a condition where the airways become inflamed due to a build-up of mucus.\n",
      "References:\n",
      "- https://www.nhs.uk/conditions/cornea-transplant/what-happens-at-an-cromium-resection/ <|eos|>\n"
     ]
    }
   ],
   "source": [
    "print(runModel('What is bronchiolitis?'))"
   ]
  },
  {
   "cell_type": "code",
   "execution_count": 4,
   "metadata": {},
   "outputs": [
    {
     "name": "stderr",
     "output_type": "stream",
     "text": [
      "Setting `pad_token_id` to `eos_token_id`:50256 for open-end generation.\n"
     ]
    },
    {
     "name": "stdout",
     "output_type": "stream",
     "text": [
      "What are the complications of a heart attack? <|eos|> <|ai|> : Heart attacks can lead to serious complications such as heart failure, stroke, and death.\n",
      "References:\n",
      "- https://www.nhs.uk/conditions/Heart-attack/Pages/Introduction.aspx <|eos|>\n"
     ]
    }
   ],
   "source": [
    "print(runModel('What are the complications of a heart attack?'))"
   ]
  },
  {
   "cell_type": "code",
   "execution_count": 6,
   "metadata": {},
   "outputs": [
    {
     "name": "stderr",
     "output_type": "stream",
     "text": [
      "Setting `pad_token_id` to `eos_token_id`:50256 for open-end generation.\n"
     ]
    },
    {
     "name": "stdout",
     "output_type": "stream",
     "text": [
      "What is dehydration? <|eos|> <|ai|> :  dehydration is a condition where your body loses too much fluid.\n",
      "References:\n",
      "- https://www.nhs.uk/conditions/alcohol-related-liver-disease-arld/complications/ <|eos|>\n"
     ]
    }
   ],
   "source": [
    "print(runModel('What is dehydration?'))"
   ]
  },
  {
   "cell_type": "code",
   "execution_count": 5,
   "metadata": {},
   "outputs": [
    {
     "name": "stderr",
     "output_type": "stream",
     "text": [
      "Setting `pad_token_id` to `eos_token_id`:50256 for open-end generation.\n"
     ]
    },
    {
     "name": "stdout",
     "output_type": "stream",
     "text": [
      "What should I do if someone has inhaled poisonous fumes? <|eos|> <|ai|> : Call 999 or go to your nearest accident and emergency (A&E) department immediately if you or someone you look after is seriously ill or has breathing difficulties.\n",
      "References:\n",
      "- https://www.nhs.uk/conditions/poisoning/symptoms-of-illness/ <|eos|>\n"
     ]
    }
   ],
   "source": [
    "print(runModel('What should I do if someone has inhaled poisonous fumes?'))"
   ]
  },
  {
   "cell_type": "code",
   "execution_count": 7,
   "metadata": {},
   "outputs": [
    {
     "name": "stderr",
     "output_type": "stream",
     "text": [
      "Setting `pad_token_id` to `eos_token_id`:50256 for open-end generation.\n"
     ]
    },
    {
     "name": "stdout",
     "output_type": "stream",
     "text": [
      "How long does it take for jet lag to improve? <|eos|> <|ai|> : Jet lag usually improves on its own within a few weeks, but it can take longer.\n",
      "References:\n",
      "- https://www.nhs.uk/conditions/jet-lag/ <|eos|>\n"
     ]
    }
   ],
   "source": [
    "print(runModel('How long does it take for jet lag to improve?'))"
   ]
  }
 ],
 "metadata": {
  "kernelspec": {
   "display_name": "Python 3",
   "language": "python",
   "name": "python3"
  },
  "language_info": {
   "codemirror_mode": {
    "name": "ipython",
    "version": 3
   },
   "file_extension": ".py",
   "mimetype": "text/x-python",
   "name": "python",
   "nbconvert_exporter": "python",
   "pygments_lexer": "ipython3",
   "version": "3.10.6"
  },
  "orig_nbformat": 4
 },
 "nbformat": 4,
 "nbformat_minor": 2
}
